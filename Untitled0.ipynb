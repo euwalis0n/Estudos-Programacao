{
  "nbformat": 4,
  "nbformat_minor": 0,
  "metadata": {
    "colab": {
      "provenance": [],
      "authorship_tag": "ABX9TyOxKd8nrqQOafKvNwdj+ADz",
      "include_colab_link": true
    },
    "kernelspec": {
      "name": "python3",
      "display_name": "Python 3"
    },
    "language_info": {
      "name": "python"
    }
  },
  "cells": [
    {
      "cell_type": "markdown",
      "metadata": {
        "id": "view-in-github",
        "colab_type": "text"
      },
      "source": [
        "<a href=\"https://colab.research.google.com/github/euwalis0n/Estudos-Programacao/blob/main/Untitled0.ipynb\" target=\"_parent\"><img src=\"https://colab.research.google.com/assets/colab-badge.svg\" alt=\"Open In Colab\"/></a>"
      ]
    },
    {
      "cell_type": "code",
      "execution_count": null,
      "metadata": {
        "id": "8OmwOPJJ93ux"
      },
      "outputs": [],
      "source": [
        "idade = int(input('digite a idade do atleta!'))\n",
        "if(idade < 14):\n",
        "  print('infantil')\n",
        "  "
      ]
    },
    {
      "cell_type": "code",
      "source": [
        "num = [1, 4, 3, 6, 9]"
      ],
      "metadata": {
        "id": "dyk7LM1o_2m_"
      },
      "execution_count": 5,
      "outputs": []
    },
    {
      "cell_type": "code",
      "source": [
        "len(num)"
      ],
      "metadata": {
        "colab": {
          "base_uri": "https://localhost:8080/"
        },
        "id": "TeGb7SYyAqsC",
        "outputId": "5f87eee2-8b0e-4037-d713-5a25bebdc41e"
      },
      "execution_count": 6,
      "outputs": [
        {
          "output_type": "execute_result",
          "data": {
            "text/plain": [
              "5"
            ]
          },
          "metadata": {},
          "execution_count": 6
        }
      ]
    },
    {
      "cell_type": "code",
      "source": [
        "print(num [0])\n",
        "print(num [1])\n",
        "print(num [2])\n",
        "print(num [3])\n",
        "print(num [4])"
      ],
      "metadata": {
        "colab": {
          "base_uri": "https://localhost:8080/"
        },
        "id": "bSgG6E_WA5GL",
        "outputId": "07888cc5-0bf5-446f-a308-f6cb6e82752c"
      },
      "execution_count": 7,
      "outputs": [
        {
          "output_type": "stream",
          "name": "stdout",
          "text": [
            "1\n",
            "4\n",
            "3\n",
            "6\n",
            "9\n"
          ]
        }
      ]
    },
    {
      "cell_type": "code",
      "source": [
        "alunos = ['Walison', 'Renan', 'Rodri', 'Messi', 'Neymar']"
      ],
      "metadata": {
        "id": "cD0-tOi0DVLy"
      },
      "execution_count": 8,
      "outputs": []
    },
    {
      "cell_type": "code",
      "source": [
        "len(alunos)"
      ],
      "metadata": {
        "colab": {
          "base_uri": "https://localhost:8080/"
        },
        "id": "s94J0Go5DzXf",
        "outputId": "0563ef72-d4da-4eb0-debd-07cd0351b5e1"
      },
      "execution_count": 9,
      "outputs": [
        {
          "output_type": "execute_result",
          "data": {
            "text/plain": [
              "5"
            ]
          },
          "metadata": {},
          "execution_count": 9
        }
      ]
    },
    {
      "cell_type": "code",
      "source": [
        "#alterar o valores de ítens de lista\n",
        "alunos[3] = 'Mbape'"
      ],
      "metadata": {
        "id": "OST7UNocEvdT"
      },
      "execution_count": 11,
      "outputs": []
    },
    {
      "cell_type": "code",
      "source": [
        "alunos.append('Salah')"
      ],
      "metadata": {
        "id": "ixfIBaG5Favw"
      },
      "execution_count": 12,
      "outputs": []
    },
    {
      "cell_type": "code",
      "source": [
        "alunos"
      ],
      "metadata": {
        "colab": {
          "base_uri": "https://localhost:8080/"
        },
        "id": "in42JMcPGDu2",
        "outputId": "62c21727-d3d5-438f-ced8-498b93a9ca75"
      },
      "execution_count": 13,
      "outputs": [
        {
          "output_type": "execute_result",
          "data": {
            "text/plain": [
              "['Walison', 'Renan', 'Rodri', 'Mbape', 'Neymar', 'Salah']"
            ]
          },
          "metadata": {},
          "execution_count": 13
        }
      ]
    },
    {
      "cell_type": "code",
      "source": [
        "#inserir valores na lista .append()\n",
        "alunos.append(input('digite o nome:'))"
      ],
      "metadata": {
        "colab": {
          "base_uri": "https://localhost:8080/"
        },
        "id": "Utj1lHY-GSv8",
        "outputId": "2b0305bf-d8a6-4971-c52a-235c46f37311"
      },
      "execution_count": 17,
      "outputs": [
        {
          "name": "stdout",
          "output_type": "stream",
          "text": [
            "digite o nome:Diego\n"
          ]
        }
      ]
    },
    {
      "cell_type": "code",
      "source": [
        "alunos"
      ],
      "metadata": {
        "colab": {
          "base_uri": "https://localhost:8080/"
        },
        "id": "mq6jVQOqHGL5",
        "outputId": "9c10e317-4279-4479-9760-43b1e8bfa2d9"
      },
      "execution_count": 18,
      "outputs": [
        {
          "output_type": "execute_result",
          "data": {
            "text/plain": [
              "['Walison',\n",
              " 'Renan',\n",
              " 'Rodri',\n",
              " 'Mbape',\n",
              " 'Neymar',\n",
              " 'Salah',\n",
              " 'Walison',\n",
              " 'Caio',\n",
              " 'Miguel',\n",
              " 'Diego']"
            ]
          },
          "metadata": {},
          "execution_count": 18
        }
      ]
    },
    {
      "cell_type": "code",
      "source": [
        " if 'Cr7' in alunos:\n",
        "  print('tem Cr7 sim')\n",
        " else:\n",
        "   print('tem Cr7 naooo!') "
      ],
      "metadata": {
        "colab": {
          "base_uri": "https://localhost:8080/"
        },
        "id": "tdLpspTEM3cn",
        "outputId": "dd78575d-a984-4353-8b39-302950ece7ab"
      },
      "execution_count": 21,
      "outputs": [
        {
          "output_type": "stream",
          "name": "stdout",
          "text": [
            "tem Cr7 naooo!\n"
          ]
        }
      ]
    },
    {
      "cell_type": "code",
      "source": [
        "#deletar um item específico da lista de compras\n",
        "nome = input('digite o nome:')\n",
        "if nome in alunos:\n",
        "   print('tem', nome)\n",
        "else:\n",
        "   print('nao tem', nome)  "
      ],
      "metadata": {
        "colab": {
          "base_uri": "https://localhost:8080/"
        },
        "id": "O2vHdDORP7r3",
        "outputId": "15cee7d6-eb21-4031-c8c0-5272362263db"
      },
      "execution_count": 23,
      "outputs": [
        {
          "output_type": "stream",
          "name": "stdout",
          "text": [
            "digite o nome:Walison\n",
            "tem Walison\n"
          ]
        }
      ]
    },
    {
      "cell_type": "code",
      "source": [
        "#criar uma lista com numeros de 1 a 15\n",
        "numeros = []\n",
        "for num in range(15):\n",
        "  numeros.append(num)\n",
        "numeros  \n"
      ],
      "metadata": {
        "colab": {
          "base_uri": "https://localhost:8080/"
        },
        "id": "cb4sXL8MT60u",
        "outputId": "6376bd78-f80a-46cb-a3f2-aa2abeeef251"
      },
      "execution_count": 27,
      "outputs": [
        {
          "output_type": "execute_result",
          "data": {
            "text/plain": [
              "[0, 1, 2, 3, 4, 5, 6, 7, 8, 9, 10, 11, 12, 13, 14]"
            ]
          },
          "metadata": {},
          "execution_count": 27
        }
      ]
    },
    {
      "cell_type": "code",
      "source": [
        "dobro = []\n",
        "for num in numeros:\n",
        "  dobro.append(numeros[num]*2)\n",
        "dobro  "
      ],
      "metadata": {
        "colab": {
          "base_uri": "https://localhost:8080/"
        },
        "id": "gsZbuya5VGe2",
        "outputId": "73793f68-198d-4dca-fc18-5022f84e2428"
      },
      "execution_count": 30,
      "outputs": [
        {
          "output_type": "execute_result",
          "data": {
            "text/plain": [
              "[0, 2, 4, 6, 8, 10, 12, 14, 16, 18, 20, 22, 24, 26, 28]"
            ]
          },
          "metadata": {},
          "execution_count": 30
        }
      ]
    },
    {
      "cell_type": "code",
      "source": [
        "#descobrir se um numero é par\n",
        "for num in numeros: \n",
        "  if numeros[num]%2 == 0:    \n",
        "    print(numeros [num])   \n",
        "\n"
      ],
      "metadata": {
        "colab": {
          "base_uri": "https://localhost:8080/"
        },
        "id": "GoK08YTFXLa4",
        "outputId": "7f5fbc86-b666-4a9f-ddb3-627a0095c8e2"
      },
      "execution_count": 37,
      "outputs": [
        {
          "output_type": "stream",
          "name": "stdout",
          "text": [
            "0\n",
            "2\n",
            "4\n",
            "6\n",
            "8\n",
            "10\n",
            "12\n",
            "14\n"
          ]
        }
      ]
    },
    {
      "cell_type": "code",
      "source": [
        "for num in numeros:\n",
        "  if numeros[num]%2 == 1:\n",
        "    print(numeros [num])"
      ],
      "metadata": {
        "colab": {
          "base_uri": "https://localhost:8080/"
        },
        "id": "jMrWtaXeZwzO",
        "outputId": "5050269c-c4c4-499f-ff91-650b9f461246"
      },
      "execution_count": 38,
      "outputs": [
        {
          "output_type": "stream",
          "name": "stdout",
          "text": [
            "1\n",
            "3\n",
            "5\n",
            "7\n",
            "9\n",
            "11\n",
            "13\n"
          ]
        }
      ]
    }
  ]
}