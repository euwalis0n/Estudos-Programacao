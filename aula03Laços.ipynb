{
  "nbformat": 4,
  "nbformat_minor": 0,
  "metadata": {
    "colab": {
      "provenance": [],
      "authorship_tag": "ABX9TyNbnZzxotXFJlfiCObUka4g",
      "include_colab_link": true
    },
    "kernelspec": {
      "name": "python3",
      "display_name": "Python 3"
    },
    "language_info": {
      "name": "python"
    }
  },
  "cells": [
    {
      "cell_type": "markdown",
      "metadata": {
        "id": "view-in-github",
        "colab_type": "text"
      },
      "source": [
        "<a href=\"https://colab.research.google.com/github/euwalis0n/Estudos-Programacao/blob/main/aula03La%C3%A7os.ipynb\" target=\"_parent\"><img src=\"https://colab.research.google.com/assets/colab-badge.svg\" alt=\"Open In Colab\"/></a>"
      ]
    },
    {
      "cell_type": "code",
      "execution_count": 1,
      "metadata": {
        "colab": {
          "base_uri": "https://localhost:8080/"
        },
        "id": "YoJPO2jTCnri",
        "outputId": "6026ddc8-cc4f-4b37-d654-d66bb28912d4"
      },
      "outputs": [
        {
          "output_type": "stream",
          "name": "stdout",
          "text": [
            "banana\n"
          ]
        }
      ],
      "source": [
        "fruta = 'banana'\n",
        "print(fruta)"
      ]
    },
    {
      "cell_type": "code",
      "source": [],
      "metadata": {
        "id": "rN8ok3CKDkL1"
      },
      "execution_count": null,
      "outputs": []
    },
    {
      "cell_type": "markdown",
      "source": [
        "Laço for\n",
        "\n"
      ],
      "metadata": {
        "id": "hZf7CJV7EMC_"
      }
    },
    {
      "cell_type": "code",
      "source": [
        "#criando uma lista\n",
        "frutas = ['jaca', 'uva', 'melao', 'jambo', 'morango']"
      ],
      "metadata": {
        "id": "omC8z31QETO3"
      },
      "execution_count": 2,
      "outputs": []
    },
    {
      "cell_type": "code",
      "source": [
        "for f in frutas:\n",
        "  print(f)"
      ],
      "metadata": {
        "colab": {
          "base_uri": "https://localhost:8080/"
        },
        "id": "PWWqV_p1EqT2",
        "outputId": "b2425cc1-3040-48e6-e504-86320385f79d"
      },
      "execution_count": 4,
      "outputs": [
        {
          "output_type": "stream",
          "name": "stdout",
          "text": [
            "jaca\n",
            "uva\n",
            "melao\n",
            "jambo\n",
            "morango\n"
          ]
        }
      ]
    },
    {
      "cell_type": "code",
      "source": [
        "for f in frutas:\n",
        "  if(f == 'jambo'):\n",
        "    print(f)"
      ],
      "metadata": {
        "colab": {
          "base_uri": "https://localhost:8080/"
        },
        "id": "ZHsO9hyFGAwD",
        "outputId": "b8101c72-aa5d-4880-8145-95b9daf38760"
      },
      "execution_count": 5,
      "outputs": [
        {
          "output_type": "stream",
          "name": "stdout",
          "text": [
            "jambo\n"
          ]
        }
      ]
    },
    {
      "cell_type": "code",
      "source": [
        "fruta = input('insira uma fruta:')\n",
        "#inserir valores em listas...\n",
        "frutas.append(fruta)\n",
        "frutas"
      ],
      "metadata": {
        "colab": {
          "base_uri": "https://localhost:8080/"
        },
        "id": "0fGRLa1yGq3z",
        "outputId": "9772fc6e-d757-42e8-8de7-246cb47bba82"
      },
      "execution_count": 7,
      "outputs": [
        {
          "name": "stdout",
          "output_type": "stream",
          "text": [
            "insira uma fruta:limao\n"
          ]
        },
        {
          "output_type": "execute_result",
          "data": {
            "text/plain": [
              "['jaca', 'uva', 'melao', 'jambo', 'morango', 'limao']"
            ]
          },
          "metadata": {},
          "execution_count": 7
        }
      ]
    },
    {
      "cell_type": "code",
      "source": [
        "#\n",
        "notas = [8, 9, 3, 4, 7, 10, 3, 6, 7]"
      ],
      "metadata": {
        "id": "U4Pj4m5PIQqG"
      },
      "execution_count": 8,
      "outputs": []
    },
    {
      "cell_type": "code",
      "source": [
        "for nota in notas:\n",
        "  if(nota >= 7):\n",
        "    print(nota)"
      ],
      "metadata": {
        "id": "I-QGR7bBIlfU"
      },
      "execution_count": null,
      "outputs": []
    },
    {
      "cell_type": "code",
      "source": [
        "#exiba a quantidade de aprovados e de reprovados.\n",
        "aprovados = 0\n",
        "reprovados = 0\n",
        "for nota in notas:\n",
        "  if(nota >= 7):\n",
        "    aprovados += 1\n",
        "  else:\n",
        "    reprovados += 1\n",
        "\n",
        "print('aprovados:', aprovados)\n",
        "print('reprovados:', reprovados)      "
      ],
      "metadata": {
        "id": "puFZYO0HJK8s"
      },
      "execution_count": null,
      "outputs": []
    },
    {
      "cell_type": "code",
      "source": [
        "#criar um progranma que lista os numero de 1 a 10\n",
        "#agora isto, precisaremos de um contador\n",
        "cont = 1\n",
        "numeros = []\n",
        "tamanho = int(input('digite o tamanho da lista: '))\n",
        "\n",
        "while (cont <= tamanho):\n",
        "  numeros.append(cont)\n",
        "  cont += 1\n",
        "\n",
        "numeros"
      ],
      "metadata": {
        "id": "DdltCEmMRiXK"
      },
      "execution_count": null,
      "outputs": []
    },
    {
      "cell_type": "code",
      "source": [
        "#modique o codigo anterior, para solocitar um tamanho de lista\n",
        "#x e, com o laço while, crie a nova lista, do tamanho desejado.\n",
        "\n",
        "cont = 1\n",
        "numeros = []\n",
        "while (cont <= 10):\n",
        "  numeros.append(cont)\n",
        "  cont += 1\n",
        "\n",
        "numeros"
      ],
      "metadata": {
        "id": "wMnvaOn0SsfW"
      },
      "execution_count": null,
      "outputs": []
    },
    {
      "cell_type": "code",
      "source": [
        "#inserir nomes de cidade.\n",
        "#o laço encerra quando digitar 0.\n",
        "\n",
        "cidades = []\n",
        "city = input('digite uma cidade:')\n",
        "\n",
        "while( city != '0'):\n",
        "  cidades.append(city)\n",
        "  city = input('digite uma cidade:')\n",
        "\n",
        "  cidades\n",
        "\n"
      ],
      "metadata": {
        "colab": {
          "base_uri": "https://localhost:8080/"
        },
        "id": "-XqSljI7U_Eu",
        "outputId": "48bdc510-168a-4ebe-a567-41222fe01fc6"
      },
      "execution_count": 14,
      "outputs": [
        {
          "name": "stdout",
          "output_type": "stream",
          "text": [
            "digite uma cidade:campina grande\n",
            "digite uma cidade:joao pessoa\n",
            "digite uma cidade:patos\n",
            "digite uma cidade:sousa\n",
            "digite uma cidade:0\n"
          ]
        }
      ]
    },
    {
      "cell_type": "code",
      "source": [
        "#par ou impar\n",
        "\n",
        "num = int(input('digite um inteiro:'))\n",
        "\n",
        "while (num >=0):\n",
        "  if (num %2 == 0):\n",
        "    print('é par')\n",
        "    num = int(input('digite um inteiro:'))\n",
        "  else:\n",
        "    print('é impar')\n",
        "    num = int(input('digite um inteiro:'))\n",
        "\n",
        "print('acabou a brincadeira')      \n",
        "\n",
        "\n"
      ],
      "metadata": {
        "colab": {
          "base_uri": "https://localhost:8080/"
        },
        "id": "sqeY4bunYEG_",
        "outputId": "43def30f-e70b-4844-9926-34ccff4dc21a"
      },
      "execution_count": 15,
      "outputs": [
        {
          "output_type": "stream",
          "name": "stdout",
          "text": [
            "digite um inteiro:33\n",
            "é impar\n",
            "digite um inteiro:59\n",
            "é impar\n",
            "digite um inteiro:20\n",
            "é par\n",
            "digite um inteiro:28\n",
            "é par\n",
            "digite um inteiro:-1\n",
            "acabou a brincadeira\n"
          ]
        }
      ]
    }
  ]
}